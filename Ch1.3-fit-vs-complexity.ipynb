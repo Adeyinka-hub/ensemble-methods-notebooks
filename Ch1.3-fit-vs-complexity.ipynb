{
 "cells": [
  {
   "cell_type": "markdown",
   "metadata": {},
   "source": [
    "_This notebook contains code and comments from Section 1.3 of the book [Ensemble Methods for Machine Learning](http://www.manning.com). Please see the book for additional details on this topic. This notebook and code are released under the [MIT license](https://github.com/gkunapuli/ensemble-methods-notebooks/blob/master/LICENSE)._\n",
    "\n",
    "---\n",
    "\n",
    "## 1.3 Fit vs. Complexity in Machine-Learning Models \n",
    "\n",
    "We will explore fit vs. complexity (a simpler view of the bias-variance dilemma) through a regression task on the classic benchmark **Boston Housing** data set."
   ]
  },
  {
   "cell_type": "markdown",
   "metadata": {},
   "source": [
    "First, load and view the data set using pandas"
   ]
  },
  {
   "cell_type": "code",
   "execution_count": 1,
   "metadata": {},
   "outputs": [
    {
     "data": {
      "text/html": [
       "<div>\n",
       "<style scoped>\n",
       "    .dataframe tbody tr th:only-of-type {\n",
       "        vertical-align: middle;\n",
       "    }\n",
       "\n",
       "    .dataframe tbody tr th {\n",
       "        vertical-align: top;\n",
       "    }\n",
       "\n",
       "    .dataframe thead th {\n",
       "        text-align: right;\n",
       "    }\n",
       "</style>\n",
       "<table border=\"1\" class=\"dataframe\">\n",
       "  <thead>\n",
       "    <tr style=\"text-align: right;\">\n",
       "      <th></th>\n",
       "      <th>CRIM</th>\n",
       "      <th>ZN</th>\n",
       "      <th>INDUS</th>\n",
       "      <th>CHAS</th>\n",
       "      <th>NOX</th>\n",
       "      <th>RM</th>\n",
       "      <th>AGE</th>\n",
       "      <th>DIS</th>\n",
       "      <th>RAD</th>\n",
       "      <th>TAX</th>\n",
       "      <th>PTRATIO</th>\n",
       "      <th>B</th>\n",
       "      <th>LSTAT</th>\n",
       "      <th>price</th>\n",
       "    </tr>\n",
       "  </thead>\n",
       "  <tbody>\n",
       "    <tr>\n",
       "      <th>0</th>\n",
       "      <td>0.00632</td>\n",
       "      <td>18.0</td>\n",
       "      <td>2.31</td>\n",
       "      <td>0.0</td>\n",
       "      <td>0.538</td>\n",
       "      <td>6.575</td>\n",
       "      <td>65.2</td>\n",
       "      <td>4.0900</td>\n",
       "      <td>1.0</td>\n",
       "      <td>296.0</td>\n",
       "      <td>15.3</td>\n",
       "      <td>396.90</td>\n",
       "      <td>4.98</td>\n",
       "      <td>24.0</td>\n",
       "    </tr>\n",
       "    <tr>\n",
       "      <th>1</th>\n",
       "      <td>0.02731</td>\n",
       "      <td>0.0</td>\n",
       "      <td>7.07</td>\n",
       "      <td>0.0</td>\n",
       "      <td>0.469</td>\n",
       "      <td>6.421</td>\n",
       "      <td>78.9</td>\n",
       "      <td>4.9671</td>\n",
       "      <td>2.0</td>\n",
       "      <td>242.0</td>\n",
       "      <td>17.8</td>\n",
       "      <td>396.90</td>\n",
       "      <td>9.14</td>\n",
       "      <td>21.6</td>\n",
       "    </tr>\n",
       "    <tr>\n",
       "      <th>2</th>\n",
       "      <td>0.02729</td>\n",
       "      <td>0.0</td>\n",
       "      <td>7.07</td>\n",
       "      <td>0.0</td>\n",
       "      <td>0.469</td>\n",
       "      <td>7.185</td>\n",
       "      <td>61.1</td>\n",
       "      <td>4.9671</td>\n",
       "      <td>2.0</td>\n",
       "      <td>242.0</td>\n",
       "      <td>17.8</td>\n",
       "      <td>392.83</td>\n",
       "      <td>4.03</td>\n",
       "      <td>34.7</td>\n",
       "    </tr>\n",
       "    <tr>\n",
       "      <th>3</th>\n",
       "      <td>0.03237</td>\n",
       "      <td>0.0</td>\n",
       "      <td>2.18</td>\n",
       "      <td>0.0</td>\n",
       "      <td>0.458</td>\n",
       "      <td>6.998</td>\n",
       "      <td>45.8</td>\n",
       "      <td>6.0622</td>\n",
       "      <td>3.0</td>\n",
       "      <td>222.0</td>\n",
       "      <td>18.7</td>\n",
       "      <td>394.63</td>\n",
       "      <td>2.94</td>\n",
       "      <td>33.4</td>\n",
       "    </tr>\n",
       "    <tr>\n",
       "      <th>4</th>\n",
       "      <td>0.06905</td>\n",
       "      <td>0.0</td>\n",
       "      <td>2.18</td>\n",
       "      <td>0.0</td>\n",
       "      <td>0.458</td>\n",
       "      <td>7.147</td>\n",
       "      <td>54.2</td>\n",
       "      <td>6.0622</td>\n",
       "      <td>3.0</td>\n",
       "      <td>222.0</td>\n",
       "      <td>18.7</td>\n",
       "      <td>396.90</td>\n",
       "      <td>5.33</td>\n",
       "      <td>36.2</td>\n",
       "    </tr>\n",
       "  </tbody>\n",
       "</table>\n",
       "</div>"
      ],
      "text/plain": [
       "      CRIM    ZN  INDUS  CHAS    NOX     RM   AGE     DIS  RAD    TAX  \\\n",
       "0  0.00632  18.0   2.31   0.0  0.538  6.575  65.2  4.0900  1.0  296.0   \n",
       "1  0.02731   0.0   7.07   0.0  0.469  6.421  78.9  4.9671  2.0  242.0   \n",
       "2  0.02729   0.0   7.07   0.0  0.469  7.185  61.1  4.9671  2.0  242.0   \n",
       "3  0.03237   0.0   2.18   0.0  0.458  6.998  45.8  6.0622  3.0  222.0   \n",
       "4  0.06905   0.0   2.18   0.0  0.458  7.147  54.2  6.0622  3.0  222.0   \n",
       "\n",
       "   PTRATIO       B  LSTAT  price  \n",
       "0     15.3  396.90   4.98   24.0  \n",
       "1     17.8  396.90   9.14   21.6  \n",
       "2     17.8  392.83   4.03   34.7  \n",
       "3     18.7  394.63   2.94   33.4  \n",
       "4     18.7  396.90   5.33   36.2  "
      ]
     },
     "execution_count": 1,
     "metadata": {},
     "output_type": "execute_result"
    }
   ],
   "source": [
    "from sklearn.datasets import load_boston\n",
    "boston = load_boston()\n",
    "\n",
    "import pandas as pd\n",
    "df = pd.DataFrame(data=boston['data'], columns=boston['feature_names'])\n",
    "df['price'] = boston['target']\n",
    "df.head()"
   ]
  },
  {
   "cell_type": "markdown",
   "metadata": {},
   "source": [
    "Standardize the data to be zero-mean, unit standard deviation, and the labels to be in the range [-1, 1]."
   ]
  },
  {
   "cell_type": "code",
   "execution_count": 2,
   "metadata": {},
   "outputs": [],
   "source": [
    "from sklearn.preprocessing import StandardScaler\n",
    "X, y = load_boston(return_X_y=True)\n",
    "\n",
    "X = StandardScaler().fit_transform(X)\n",
    "y = StandardScaler().fit_transform(y.reshape(-1, 1))"
   ]
  },
  {
   "cell_type": "markdown",
   "metadata": {},
   "source": [
    "### 1.3.1 Regression with Decision Trees\n",
    "\n",
    "Perform 5 runs of the following:\n",
    "- Split the data into training (67%) and test (33%) sets randomly\n",
    "- Fit (train) decision trees of different depths in the range 1 to 10 on the training set \n",
    "- Evaluate each of the trees on both the training set (to get the training score) and test set (to get the test score) using [R2 coefficient](https://en.wikipedia.org/wiki/Coefficient_of_determination) as the scoring metric"
   ]
  },
  {
   "cell_type": "code",
   "execution_count": 3,
   "metadata": {},
   "outputs": [],
   "source": [
    "from sklearn.tree import DecisionTreeRegressor\n",
    "from sklearn.model_selection import ShuffleSplit\n",
    "from sklearn.model_selection import validation_curve\n",
    "import numpy as np\n",
    "\n",
    "subsets = ShuffleSplit(n_splits=5, test_size=0.33, random_state=23)\n",
    "\n",
    "model = DecisionTreeRegressor()\n",
    "trn_scores, tst_scores = validation_curve(model, X, y, \\\n",
    "                param_name='max_depth', param_range=range(1, 11), \\\n",
    "                cv=subsets, scoring='r2')\n",
    "mean_train_score = np.mean(trn_scores, axis=1) \n",
    "mean_test_score = np.mean(tst_scores, axis=1)  "
   ]
  },
  {
   "cell_type": "markdown",
   "metadata": {},
   "source": [
    "Plot the training and test score curves."
   ]
  },
  {
   "cell_type": "code",
   "execution_count": 4,
   "metadata": {},
   "outputs": [],
   "source": [
    "import matplotlib.pyplot as plt\n",
    "from visualization import get_colors\n",
    "col = get_colors(colormap='RdBu')\n",
    "\n",
    "plt.plot(range(1, 11), mean_train_score, linewidth=3, color=col[0], marker='o', markersize=8);\n",
    "plt.plot(range(1, 11), mean_test_score, linewidth=3, color=col[1], marker='s', markersize=8);\n",
    "plt.legend(['training score', 'test_score'], loc='lower center', ncol=2, fontsize=12)\n",
    "plt.xlabel('Decision Tree Complexity, max_depth', fontsize=16);\n",
    "plt.ylabel('$R^2$ coefficient', fontsize=16);\n",
    "plt.xticks(range(1, 11));\n",
    "plt.title('Decision Tree Regression', fontsize=16)\n",
    "\n",
    "plt.savefig('./figures/CH01_F05_Kunapuli.png', format='png', dpi=300);"
   ]
  },
  {
   "cell_type": "markdown",
   "metadata": {},
   "source": [
    "An R2 score close to 1 means that the model achieves nearly zero error and is very good. \n",
    "\n",
    "As decision trees become deeper (more complex) the training scores increase and the resulting models **fit** the data increasingly better. However, the test scores do not correspondingly increase and the resulting models do not **generalize** better. Thus, the most complex model with the best fit on the training set is not necessarily the best model for future predictions."
   ]
  },
  {
   "cell_type": "markdown",
   "metadata": {},
   "source": [
    "### 1.3.2 Regression with Support Vector Machines\n",
    "\n",
    "Perform 5 runs of the following:\n",
    "- Use the same subsets from the previous experiment with decision trees\n",
    "- Fit (train) SVRs of different with different C values (10<sup>-2</sup>, 10<sup>-1</sup>, ..., 10<sup>3</sup>, 10<sup>4</sup>) on the training set \n",
    "- Evaluate each of the trees on both the training set (to get the training score) and test set (to get the test score) using [R2 coefficient](https://en.wikipedia.org/wiki/Coefficient_of_determination) as the scoring metric"
   ]
  },
  {
   "cell_type": "code",
   "execution_count": 5,
   "metadata": {},
   "outputs": [],
   "source": [
    "from sklearn.svm import SVR\n",
    "\n",
    "model = SVR(degree=3)\n",
    "trn_scores, tst_scores = validation_curve(model, X, y.ravel(),    \n",
    "                                          param_name='C',  \n",
    "                                          param_range=np.logspace(-2,4,7), \n",
    "                                          cv=subsets, scoring='r2')\n",
    "\n",
    "mean_train_score = np.mean(trn_scores, axis=1) \n",
    "mean_test_score = np.mean(tst_scores, axis=1)  "
   ]
  },
  {
   "cell_type": "markdown",
   "metadata": {},
   "source": [
    "Plot the training and test score curves."
   ]
  },
  {
   "cell_type": "code",
   "execution_count": 6,
   "metadata": {},
   "outputs": [
    {
     "data": {
      "image/png": "[encoded data removed]",
      "text/plain": [
       "<Figure size 432x288 with 1 Axes>"
      ]
     },
     "metadata": {
      "needs_background": "light"
     },
     "output_type": "display_data"
    }
   ],
   "source": [
    "plt.semilogx(np.logspace(-2, 4, 7), mean_train_score, linewidth=3, color=col[0], marker='o', markersize=8);\n",
    "plt.semilogx(np.logspace(-2, 4, 7), mean_test_score, linewidth=3, color=col[1], marker='s', markersize=8);\n",
    "plt.legend(['training score', 'test_score'], loc='lower center', ncol=2, fontsize=12);\n",
    "plt.xlabel('Regularization Parameter, C', fontsize=16);\n",
    "plt.ylabel('$R^2$ coefficient', fontsize=16);\n",
    "plt.title('Support Vector Regression', fontsize=16)\n",
    "\n",
    "# Save this figure\n",
    "plt.savefig('./figures/CH01_F07_Kunapuli.png', format='png', dpi=300);"
   ]
  },
  {
   "cell_type": "markdown",
   "metadata": {},
   "source": [
    "SVMs aim to minimize an objective function of the form \n",
    "\n",
    "_objective function = complexity(model) + C*loss(model, data)._\n",
    "\n",
    "As C increases, the loss term becomes more dominant, forcing the SVM to minimize the loss and improve the fit. As it does so however, for larger values of C, the complexity term is increasingly ignored and the model becomes more complex. \n",
    "\n",
    "As with decision trees, a more complex model does fit the training data better, but without the corresponding generalization performance as indicated by the test score."
   ]
  }
 ],
 "metadata": {
  "kernelspec": {
   "display_name": "Python 3",
   "language": "python",
   "name": "python3"
  },
  "language_info": {
   "codemirror_mode": {
    "name": "ipython",
    "version": 3
   },
   "file_extension": ".py",
   "mimetype": "text/x-python",
   "name": "python",
   "nbconvert_exporter": "python",
   "pygments_lexer": "ipython3",
   "version": "3.6.4"
  }
 },
 "nbformat": 4,
 "nbformat_minor": 2
}
